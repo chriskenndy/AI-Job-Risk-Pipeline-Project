{
 "cells": [
  {
   "cell_type": "code",
   "execution_count": 1,
   "id": "7a2cd682-5d9a-47e1-b09b-16c4b77d3998",
   "metadata": {},
   "outputs": [
    {
     "name": "stdout",
     "output_type": "stream",
     "text": [
      "Requirement already satisfied: faker in /Library/Frameworks/Python.framework/Versions/3.12/lib/python3.12/site-packages (37.3.0)\n",
      "Requirement already satisfied: pandas in /Library/Frameworks/Python.framework/Versions/3.12/lib/python3.12/site-packages (2.2.1)\n",
      "Requirement already satisfied: numpy in /Library/Frameworks/Python.framework/Versions/3.12/lib/python3.12/site-packages (1.26.4)\n",
      "Requirement already satisfied: tzdata in /Library/Frameworks/Python.framework/Versions/3.12/lib/python3.12/site-packages (from faker) (2024.1)\n",
      "Requirement already satisfied: python-dateutil>=2.8.2 in /Library/Frameworks/Python.framework/Versions/3.12/lib/python3.12/site-packages (from pandas) (2.8.2)\n",
      "Requirement already satisfied: pytz>=2020.1 in /Library/Frameworks/Python.framework/Versions/3.12/lib/python3.12/site-packages (from pandas) (2024.1)\n",
      "Requirement already satisfied: six>=1.5 in /Library/Frameworks/Python.framework/Versions/3.12/lib/python3.12/site-packages (from python-dateutil>=2.8.2->pandas) (1.16.0)\n",
      "\n",
      "\u001b[1m[\u001b[0m\u001b[34;49mnotice\u001b[0m\u001b[1;39;49m]\u001b[0m\u001b[39;49m A new release of pip is available: \u001b[0m\u001b[31;49m24.0\u001b[0m\u001b[39;49m -> \u001b[0m\u001b[32;49m25.1.1\u001b[0m\n",
      "\u001b[1m[\u001b[0m\u001b[34;49mnotice\u001b[0m\u001b[1;39;49m]\u001b[0m\u001b[39;49m To update, run: \u001b[0m\u001b[32;49mpip3 install --upgrade pip\u001b[0m\n"
     ]
    }
   ],
   "source": [
    "!python3 -m pip install faker pandas numpy"
   ]
  },
  {
   "cell_type": "code",
   "execution_count": 12,
   "id": "a4527907-59ac-4f29-939c-d5b68a791d18",
   "metadata": {},
   "outputs": [],
   "source": [
    "import pandas as pd\n",
    "import numpy as np\n",
    "import random\n",
    "from faker import Faker\n",
    "\n",
    "fake = Faker()"
   ]
  },
  {
   "cell_type": "code",
   "execution_count": 13,
   "id": "49fe51a0-ebcf-4a31-a83c-8c065a46a5e9",
   "metadata": {},
   "outputs": [],
   "source": [
    "job_titles = ['Data Analyst', 'Software Engineer', 'Customer Support Agent', 'Copywriter', 'Paralegal', 'Radiologist', 'Financial Analyst', 'Technical Recruiter', 'Doctor', 'Nurse', 'Teacher', 'Marketing Manager', 'HR Manager', 'Lawyer']\n",
    "industries = ['Tech', 'Finance', 'Legal', 'Healthcare', 'Education', 'Media & Marketing', 'Human Resources']\n",
    "locations = ['San Francisco', 'Chicago', 'Boston', 'New York', 'Seattle', 'Austin', 'Remote']\n",
    "ai_tools = ['ChatGPT', 'Github Copilot', 'Claude', 'MedpaLM', 'Harvey', 'Google Gemini', 'DoNotPay', 'Scribe AI', 'Writer.com', 'PerplexityAI', 'None']"
   ]
  },
  {
   "cell_type": "code",
   "execution_count": 14,
   "id": "5294d351-f6bd-4c0b-ab44-377c676bf9aa",
   "metadata": {},
   "outputs": [],
   "source": [
    "job_industry_map = {\n",
    "    'Data Analyst' : ['Tech', 'Finance', 'Healthcare', 'Media & Marketing'],\n",
    "    'Software Engineer' : ['Tech'],\n",
    "    'Customer Support Agent' : ['Tech', 'Finance', 'Healthcare', 'Media & Marketing'],\n",
    "    'Copywriter' : ['Media & Marketing', 'Tech'],\n",
    "    'Paralegal' : ['Legal'],\n",
    "    'Radiologist': ['Healthcare'],\n",
    "    'Financial Analyst' : ['Finance', 'Healthcare'],\n",
    "    'Technical Recruiter' : ['Tech', 'Human Resources', 'Healthcare', 'Finance', 'Media & Marketing'],\n",
    "    'Doctor' : ['Healthcare'],\n",
    "    'Nurse' : ['Healthcare'],\n",
    "    'Teacher' : ['Education'],\n",
    "    'Marketing Manager' : ['Media & Marketing'],\n",
    "    'HR Manager' : ['Human Resources'],\n",
    "    'Lawyer' : ['Legal']\n",
    "}"
   ]
  },
  {
   "cell_type": "code",
   "execution_count": 15,
   "id": "2f8dcdc1-0cff-45ce-86b1-c5d8970d6c9d",
   "metadata": {},
   "outputs": [],
   "source": [
    "def assign_ai_tool(job_title, industry):\n",
    "    if job_title in ['Software Engineer', 'Data Analyst']:\n",
    "        return random.choice(['Github Copilot', 'ChatGPT', 'Claude'])\n",
    "    elif job_title in ['Lawyer', 'Paralegal']:\n",
    "        return random.choice(['DoNotPay', 'Claude', 'Harvey'])\n",
    "    elif job_title in ['Doctor', 'Nurse', 'Radiologist']:\n",
    "        return random.choice(['MedpaLM', 'Claude'])\n",
    "    elif job_title in ['Marketing Manager', 'HR Manager']:\n",
    "        return random.choice(['Writer.com', 'Scribe AI', 'ChatGPT'])\n",
    "    elif job_title in ['Customer Support Agent']:\n",
    "        return random.choice(['ChatGPT', 'Perplexity AI', 'None'])\n",
    "    elif job_title in ['Copywriter']:\n",
    "        return random.choice(['ChatGPT', 'Writer.com'])\n",
    "    elif job_title in ['Teacher']:\n",
    "        return random.choice(['Google Gemini', 'Claude', 'ChatGPT'])\n",
    "    elif job_title in ['Technical Recruiter']:\n",
    "        return random.choice(['Scribe AI', 'ChatGPT', 'None'])\n",
    "    else:\n",
    "        return random.choice(['ChatGPT', 'Perplexity AI', 'None'])"
   ]
  },
  {
   "cell_type": "code",
   "execution_count": 16,
   "id": "41187189-b7e5-4f02-8537-c701da5933b0",
   "metadata": {},
   "outputs": [],
   "source": [
    "data = []\n",
    "for _ in range(1000):\n",
    "    job = random.choice(job_titles)\n",
    "    industry = random.choice(job_industry_map[job])\n",
    "    risk = random.randint(1, 5)\n",
    "    salary = random.randint(40000, 200000)\n",
    "    experience = random.randint(0, 35)\n",
    "    location = random.choice(locations)\n",
    "    ai_tool = assign_ai_tool(job, industry)\n",
    "    name = fake.name()\n",
    "\n",
    "    data.append({\n",
    "        'Name': name,\n",
    "        'Job_Title': job,\n",
    "        'Industry': industry,\n",
    "        'AI_Replacement_Risk': risk,\n",
    "        'Salary': salary,\n",
    "        'Years_of_Experience': experience,\n",
    "        'City': location,\n",
    "        'AI_Tool_Threat': ai_tool\n",
    "    })"
   ]
  },
  {
   "cell_type": "code",
   "execution_count": 17,
   "id": "c4b432a5-0a41-4a0e-8c96-8df661fd5979",
   "metadata": {},
   "outputs": [],
   "source": [
    "df = pd.DataFrame(data)"
   ]
  },
  {
   "cell_type": "code",
   "execution_count": 18,
   "id": "2ba13c94-9336-47a7-b59a-f0cca44886d0",
   "metadata": {},
   "outputs": [
    {
     "name": "stdout",
     "output_type": "stream",
     "text": [
      "                   Name               Job_Title           Industry  \\\n",
      "0          Paul Edwards            Data Analyst         Healthcare   \n",
      "1         Stephen Owens       Marketing Manager  Media & Marketing   \n",
      "2           James Meyer              Copywriter               Tech   \n",
      "3        Joseph Marquez                  Doctor         Healthcare   \n",
      "4            Mark Owens       Financial Analyst            Finance   \n",
      "5           Mark Morris                   Nurse         Healthcare   \n",
      "6          Martha Ortiz       Financial Analyst            Finance   \n",
      "7       Alexander Brown                 Teacher          Education   \n",
      "8         Tina Gonzalez  Customer Support Agent            Finance   \n",
      "9          Theresa Lutz              HR Manager    Human Resources   \n",
      "10       Cameron Butler                  Doctor         Healthcare   \n",
      "11           Larry Reed  Customer Support Agent         Healthcare   \n",
      "12          Martin Frye       Marketing Manager  Media & Marketing   \n",
      "13  Mr. Keith Weber Jr.  Customer Support Agent               Tech   \n",
      "14           Todd Casey       Financial Analyst         Healthcare   \n",
      "15      Vanessa Alvarez     Technical Recruiter               Tech   \n",
      "16    Melissa Stevenson             Radiologist         Healthcare   \n",
      "17          Scott Smith     Technical Recruiter    Human Resources   \n",
      "18         Claire Cross                   Nurse         Healthcare   \n",
      "19         David Watson     Technical Recruiter         Healthcare   \n",
      "20     Katherine Norris              HR Manager    Human Resources   \n",
      "21     Anthony Mitchell              HR Manager    Human Resources   \n",
      "22        Jamie Jackson            Data Analyst  Media & Marketing   \n",
      "23     Alexander Santos            Data Analyst         Healthcare   \n",
      "24      Sandra Campbell                  Doctor         Healthcare   \n",
      "\n",
      "    AI_Replacement_Risk  Salary  Years_of_Experience           City  \\\n",
      "0                     4  119261                   27         Austin   \n",
      "1                     5  175689                   13  San Francisco   \n",
      "2                     2   85007                   25         Austin   \n",
      "3                     2   46017                   22  San Francisco   \n",
      "4                     1  127452                   18       New York   \n",
      "5                     1   65400                   16  San Francisco   \n",
      "6                     2  189603                   18         Boston   \n",
      "7                     2  102422                   28        Seattle   \n",
      "8                     2  149213                   34        Chicago   \n",
      "9                     4  169617                   19         Austin   \n",
      "10                    3  141645                    6  San Francisco   \n",
      "11                    5  148624                   24         Austin   \n",
      "12                    2  142108                    9        Chicago   \n",
      "13                    2   91717                   10         Austin   \n",
      "14                    3  132261                   10         Austin   \n",
      "15                    1  165164                   11       New York   \n",
      "16                    4  116068                   29         Boston   \n",
      "17                    3  116707                    4  San Francisco   \n",
      "18                    4  157805                   24         Austin   \n",
      "19                    4   77252                   16  San Francisco   \n",
      "20                    3  192811                   18       New York   \n",
      "21                    3  114069                    2         Austin   \n",
      "22                    3  173776                   23       New York   \n",
      "23                    3   41735                   18       New York   \n",
      "24                    1   52429                   27  San Francisco   \n",
      "\n",
      "    AI_Tool_Threat  \n",
      "0   Github Copilot  \n",
      "1        Scribe AI  \n",
      "2       Writer.com  \n",
      "3           Claude  \n",
      "4          ChatGPT  \n",
      "5           Claude  \n",
      "6    Perplexity AI  \n",
      "7           Claude  \n",
      "8    Perplexity AI  \n",
      "9          ChatGPT  \n",
      "10          Claude  \n",
      "11         ChatGPT  \n",
      "12      Writer.com  \n",
      "13         ChatGPT  \n",
      "14            None  \n",
      "15       Scribe AI  \n",
      "16         MedpaLM  \n",
      "17       Scribe AI  \n",
      "18         MedpaLM  \n",
      "19         ChatGPT  \n",
      "20         ChatGPT  \n",
      "21       Scribe AI  \n",
      "22         ChatGPT  \n",
      "23          Claude  \n",
      "24          Claude  \n"
     ]
    }
   ],
   "source": [
    "print(df.head(25))"
   ]
  },
  {
   "cell_type": "code",
   "execution_count": 20,
   "id": "17ef43c8-4b2d-429b-8195-fd13067fe945",
   "metadata": {},
   "outputs": [],
   "source": [
    "df.to_csv('job_ai_data.csv', index = False)"
   ]
  },
  {
   "cell_type": "code",
   "execution_count": null,
   "id": "8929ab27-446a-4c54-879a-d1e1b957a90f",
   "metadata": {},
   "outputs": [],
   "source": []
  }
 ],
 "metadata": {
  "kernelspec": {
   "display_name": "Python 3 (ipykernel)",
   "language": "python",
   "name": "python3"
  },
  "language_info": {
   "codemirror_mode": {
    "name": "ipython",
    "version": 3
   },
   "file_extension": ".py",
   "mimetype": "text/x-python",
   "name": "python",
   "nbconvert_exporter": "python",
   "pygments_lexer": "ipython3",
   "version": "3.12.3"
  }
 },
 "nbformat": 4,
 "nbformat_minor": 5
}
